{
 "cells": [
  {
   "cell_type": "code",
   "execution_count": 1,
   "metadata": {},
   "outputs": [],
   "source": [
    "import requests\n",
    "import json\n",
    "import pandas as pd\n",
    "from bs4 import BeautifulSoup\n",
    "from azure.storage.blob import BlobServiceClient, BlobClient, ContainerClient"
   ]
  },
  {
   "cell_type": "code",
   "execution_count": 2,
   "metadata": {},
   "outputs": [],
   "source": [
    "response = requests.get('https://data.cityofnewyork.us/resource/hvrh-b6nb.json')\n",
    "\n",
    "if response.status_code == 200:\n",
    "    try:\n",
    "        data = response.json()\n",
    "    except ValueError:\n",
    "        print(\"Not JSON.\")\n",
    "else:\n",
    "    print(\"Retrieve failed.\")"
   ]
  },
  {
   "cell_type": "code",
   "execution_count": 3,
   "metadata": {},
   "outputs": [],
   "source": [
    "df = pd.DataFrame.from_records(data)"
   ]
  },
  {
   "cell_type": "code",
   "execution_count": 4,
   "metadata": {},
   "outputs": [],
   "source": [
    "df.to_csv(\"green_2016.csv\", index=False)"
   ]
  },
  {
   "cell_type": "code",
   "execution_count": 5,
   "metadata": {},
   "outputs": [],
   "source": [
    "connection_string = \"DefaultEndpointsProtocol=https;AccountName=triathlonnyc;AccountKey=wfxBgbmGNXsXavVUF48Zn7sBj5ZNgT60MTArVyDKwn0CdqVebvaYyMWDzKfddso2yX0iiyr2fcK4+AStTsLANQ==;EndpointSuffix=core.windows.net\""
   ]
  },
  {
   "cell_type": "code",
   "execution_count": 6,
   "metadata": {},
   "outputs": [],
   "source": [
    "container_name = \"green\""
   ]
  },
  {
   "cell_type": "code",
   "execution_count": 7,
   "metadata": {},
   "outputs": [],
   "source": [
    "blob_name = \"green_2016\""
   ]
  },
  {
   "cell_type": "code",
   "execution_count": 8,
   "metadata": {},
   "outputs": [],
   "source": [
    "blob_service_client = BlobServiceClient.from_connection_string(connection_string)"
   ]
  },
  {
   "cell_type": "code",
   "execution_count": 9,
   "metadata": {},
   "outputs": [],
   "source": [
    "container_client = blob_service_client.get_container_client(container_name)"
   ]
  },
  {
   "cell_type": "code",
   "execution_count": 11,
   "metadata": {},
   "outputs": [],
   "source": [
    "# with open(\"green_2016.csv\", \"rb\") as data:\n",
    "#     container_client.upload_blob(name = blob_name, data=data)"
   ]
  },
  {
   "cell_type": "code",
   "execution_count": 21,
   "metadata": {},
   "outputs": [
    {
     "name": "stdout",
     "output_type": "stream",
     "text": [
      "Dataset Name: 2019 Yellow Taxi Trip Data\n",
      "API Endpoint: https://data.cityofnewyork.us/resource/2upf-qytp.json\n",
      "Dataset Name: Medallion Taxi Initial Inspection Schedule\n",
      "API Endpoint: https://data.cityofnewyork.us/resource/sp7n-275u.json\n"
     ]
    }
   ],
   "source": [
    "# The base URL for the NYC Open Data portal's SODA API\n",
    "base_url = \"https://data.cityofnewyork.us/resource/\"\n",
    "\n",
    "# The discovery API endpoint for datasets\n",
    "discovery_endpoint = \"https://api.us.socrata.com/api/catalog/v1\"\n",
    "\n",
    "# Parameters for querying the dataset\n",
    "params = {\n",
    "    'domains': 'data.cityofnewyork.us',\n",
    "    'search_context': 'data.cityofnewyork.us',\n",
    "    'q': 'yellow taxi 2019'\n",
    "}\n",
    "\n",
    "# Send a GET request to the discovery endpoint with the parameters\n",
    "response = requests.get(discovery_endpoint, params=params)\n",
    "\n",
    "# Check if the request was successful\n",
    "if response.status_code == 200:\n",
    "    datasets = response.json()\n",
    "    \n",
    "    # Extract dataset identifiers and construct API endpoints\n",
    "    for dataset in datasets['results']:\n",
    "        resource = dataset['resource']\n",
    "        dataset_id = resource['id']\n",
    "        dataset_name = resource['name']\n",
    "        api_endpoint = f\"{base_url}{dataset_id}.json\"\n",
    "        \n",
    "        print(f\"Dataset Name: {dataset_name}\")\n",
    "        print(f\"API Endpoint: {api_endpoint}\")\n",
    "else:\n",
    "    print(f\"Failed to retrieve datasets, status code: {response.status_code}\")"
   ]
  },
  {
   "cell_type": "code",
   "execution_count": 31,
   "metadata": {},
   "outputs": [],
   "source": [
    "def DatasetRetrieval2(year, colour):\n",
    "    base_url = \"https://data.cityofnewyork.us/resource/\"\n",
    "\n",
    "    # The discovery API endpoint for datasets\n",
    "    discovery_endpoint = \"https://api.us.socrata.com/api/catalog/v1\"\n",
    "\n",
    "    # Parameters for querying the dataset\n",
    "    params = {\n",
    "        'domains': 'data.cityofnewyork.us',\n",
    "        'search_context': 'data.cityofnewyork.us',\n",
    "        'q': f'{colour} taxi {year}'\n",
    "    }\n",
    "\n",
    "    # Send a GET request to the discovery endpoint with the parameters\n",
    "    response = requests.get(discovery_endpoint, params=params)\n",
    "\n",
    "    # Check if the request was successful\n",
    "    if response.status_code == 200:\n",
    "        datasets = response.json()\n",
    "        \n",
    "        # Extract dataset identifiers and construct API endpoints\n",
    "        for dataset in datasets['results']:\n",
    "            resource = dataset['resource']\n",
    "            dataset_id = resource['id']\n",
    "            dataset_name = resource['name']\n",
    "            api_endpoint = f\"{base_url}{dataset_id}.csv\"\n",
    "            \n",
    "            if set(year).issubset(set(dataset_name)) and set(colour.lower()).issubset(set(dataset_name.lower())):\n",
    "                print(dataset_name)\n",
    "            return api_endpoint\n",
    "    else:\n",
    "        print(f\"Failed to retrieve datasets, status code: {response.status_code}\")"
   ]
  },
  {
   "cell_type": "code",
   "execution_count": 32,
   "metadata": {},
   "outputs": [
    {
     "name": "stdout",
     "output_type": "stream",
     "text": [
      "2016 Green Taxi Trip Data\n"
     ]
    },
    {
     "data": {
      "text/plain": [
       "'https://data.cityofnewyork.us/resource/hvrh-b6nb.csv'"
      ]
     },
     "execution_count": 32,
     "metadata": {},
     "output_type": "execute_result"
    }
   ],
   "source": [
    "DatasetRetrieval2('2016', 'green')"
   ]
  },
  {
   "cell_type": "code",
   "execution_count": 33,
   "metadata": {},
   "outputs": [
    {
     "name": "stdout",
     "output_type": "stream",
     "text": [
      "2016 Green Taxi Trip Data\n",
      "https://data.cityofnewyork.us/resource/hvrh-b6nb.csv\n"
     ]
    }
   ],
   "source": [
    "a = DatasetRetrieval2('2016', 'green')\n",
    "\n",
    "print(a)"
   ]
  }
 ],
 "metadata": {
  "kernelspec": {
   "display_name": "Python 3",
   "language": "python",
   "name": "python3"
  },
  "language_info": {
   "codemirror_mode": {
    "name": "ipython",
    "version": 3
   },
   "file_extension": ".py",
   "mimetype": "text/x-python",
   "name": "python",
   "nbconvert_exporter": "python",
   "pygments_lexer": "ipython3",
   "version": "3.11.8"
  }
 },
 "nbformat": 4,
 "nbformat_minor": 2
}
