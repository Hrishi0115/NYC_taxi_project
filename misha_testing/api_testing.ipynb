{
 "cells": [
  {
   "cell_type": "code",
   "execution_count": 1,
   "metadata": {},
   "outputs": [],
   "source": [
    "import requests\n",
    "import json\n",
    "import pandas as pd\n",
    "from bs4 import BeautifulSoup\n",
    "from azure.storage.blob import BlobServiceClient, BlobClient, ContainerClient"
   ]
  },
  {
   "cell_type": "code",
   "execution_count": 2,
   "metadata": {},
   "outputs": [],
   "source": [
    "response = requests.get('https://data.cityofnewyork.us/resource/hvrh-b6nb.json')\n",
    "\n",
    "if response.status_code == 200:\n",
    "    try:\n",
    "        data = response.json()\n",
    "    except ValueError:\n",
    "        print(\"Not JSON.\")\n",
    "else:\n",
    "    print(\"Retrieve failed.\")"
   ]
  },
  {
   "cell_type": "code",
   "execution_count": 3,
   "metadata": {},
   "outputs": [],
   "source": [
    "df = pd.DataFrame.from_records(data)"
   ]
  },
  {
   "cell_type": "code",
   "execution_count": 4,
   "metadata": {},
   "outputs": [],
   "source": [
    "df.to_csv(\"green_2016.csv\", index=False)"
   ]
  },
  {
   "cell_type": "code",
   "execution_count": 5,
   "metadata": {},
   "outputs": [],
   "source": [
    "connection_string = \"DefaultEndpointsProtocol=https;AccountName=triathlonnyc;AccountKey=wfxBgbmGNXsXavVUF48Zn7sBj5ZNgT60MTArVyDKwn0CdqVebvaYyMWDzKfddso2yX0iiyr2fcK4+AStTsLANQ==;EndpointSuffix=core.windows.net\""
   ]
  },
  {
   "cell_type": "code",
   "execution_count": 6,
   "metadata": {},
   "outputs": [],
   "source": [
    "container_name = \"green\""
   ]
  },
  {
   "cell_type": "code",
   "execution_count": 7,
   "metadata": {},
   "outputs": [],
   "source": [
    "blob_name = \"green_2016\""
   ]
  },
  {
   "cell_type": "code",
   "execution_count": 8,
   "metadata": {},
   "outputs": [],
   "source": [
    "blob_service_client = BlobServiceClient.from_connection_string(connection_string)"
   ]
  },
  {
   "cell_type": "code",
   "execution_count": 9,
   "metadata": {},
   "outputs": [],
   "source": [
    "container_client = blob_service_client.get_container_client(container_name)"
   ]
  },
  {
   "cell_type": "code",
   "execution_count": 11,
   "metadata": {},
   "outputs": [],
   "source": [
    "# with open(\"green_2016.csv\", \"rb\") as data:\n",
    "#     container_client.upload_blob(name = blob_name, data=data)"
   ]
  },
  {
   "cell_type": "code",
   "execution_count": 21,
   "metadata": {},
   "outputs": [
    {
     "name": "stdout",
     "output_type": "stream",
     "text": [
      "Dataset Name: 2019 Yellow Taxi Trip Data\n",
      "API Endpoint: https://data.cityofnewyork.us/resource/2upf-qytp.json\n",
      "Dataset Name: Medallion Taxi Initial Inspection Schedule\n",
      "API Endpoint: https://data.cityofnewyork.us/resource/sp7n-275u.json\n"
     ]
    }
   ],
   "source": [
    "# The base URL for the NYC Open Data portal's SODA API\n",
    "base_url = \"https://data.cityofnewyork.us/resource/\"\n",
    "\n",
    "# The discovery API endpoint for datasets\n",
    "discovery_endpoint = \"https://api.us.socrata.com/api/catalog/v1\"\n",
    "\n",
    "# Parameters for querying the dataset\n",
    "params = {\n",
    "    'domains': 'data.cityofnewyork.us',\n",
    "    'search_context': 'data.cityofnewyork.us',\n",
    "    'q': 'yellow taxi 2019'\n",
    "}\n",
    "\n",
    "# Send a GET request to the discovery endpoint with the parameters\n",
    "response = requests.get(discovery_endpoint, params=params)\n",
    "\n",
    "# Check if the request was successful\n",
    "if response.status_code == 200:\n",
    "    datasets = response.json()\n",
    "    \n",
    "    # Extract dataset identifiers and construct API endpoints\n",
    "    for dataset in datasets['results']:\n",
    "        resource = dataset['resource']\n",
    "        dataset_id = resource['id']\n",
    "        dataset_name = resource['name']\n",
    "        api_endpoint = f\"{base_url}{dataset_id}.json\"\n",
    "        \n",
    "        print(f\"Dataset Name: {dataset_name}\")\n",
    "        print(f\"API Endpoint: {api_endpoint}\")\n",
    "else:\n",
    "    print(f\"Failed to retrieve datasets, status code: {response.status_code}\")"
   ]
  },
  {
   "cell_type": "code",
   "execution_count": 11,
   "metadata": {},
   "outputs": [],
   "source": [
    "def DatasetRetrieval2(year, colour):\n",
    "    base_url = \"https://data.cityofnewyork.us/resource/\"\n",
    "\n",
    "    # The discovery API endpoint for datasets\n",
    "    discovery_endpoint = \"https://api.us.socrata.com/api/catalog/v1\"\n",
    "\n",
    "    # Parameters for querying the dataset\n",
    "    params = {\n",
    "        'domains': 'data.cityofnewyork.us',\n",
    "        'search_context': 'data.cityofnewyork.us',\n",
    "        'q': f'{colour} taxi {year}'\n",
    "    }\n",
    "\n",
    "    # Send a GET request to the discovery endpoint with the parameters\n",
    "    response = requests.get(discovery_endpoint, params=params)\n",
    "\n",
    "    # Check if the request was successful\n",
    "    if response.status_code == 200:\n",
    "        datasets = response.json()\n",
    "        \n",
    "        # Extract dataset identifiers and construct API endpoints\n",
    "        for dataset in datasets['results']:\n",
    "            resource = dataset['resource']\n",
    "            dataset_id = resource['id']\n",
    "            dataset_name = resource['name']\n",
    "            api_endpoint = f\"{base_url}{dataset_id}.csv\"\n",
    "            \n",
    "            if set(year).issubset(set(dataset_name)) and set(colour.lower()).issubset(set(dataset_name.lower())):\n",
    "                return api_endpoint\n",
    "    else:\n",
    "        print(f\"Failed to retrieve datasets, status code: {response.status_code}\")"
   ]
  },
  {
   "cell_type": "code",
   "execution_count": 13,
   "metadata": {},
   "outputs": [
    {
     "data": {
      "text/plain": [
       "'https://data.cityofnewyork.us/resource/u6nh-b56h.csv'"
      ]
     },
     "execution_count": 13,
     "metadata": {},
     "output_type": "execute_result"
    }
   ],
   "source": [
    "# DatasetRetrieval2('2016', 'green')\n",
    "\n",
    "DatasetRetrieval2('2019', 'For Hire Vehicles Trip Data')\n"
   ]
  },
  {
   "cell_type": "code",
   "execution_count": 33,
   "metadata": {},
   "outputs": [
    {
     "name": "stdout",
     "output_type": "stream",
     "text": [
      "2016 Green Taxi Trip Data\n",
      "https://data.cityofnewyork.us/resource/hvrh-b6nb.csv\n"
     ]
    }
   ],
   "source": [
    "a = DatasetRetrieval2('2016', 'green')\n",
    "\n",
    "print(a)"
   ]
  },
  {
   "cell_type": "code",
   "execution_count": 14,
   "metadata": {},
   "outputs": [
    {
     "ename": "OSError",
     "evalue": "[Errno 22] Invalid argument: 'https://data.cityofnewyork.us/resource/hvrh-b6nb.csv'",
     "output_type": "error",
     "traceback": [
      "\u001b[1;31m---------------------------------------------------------------------------\u001b[0m",
      "\u001b[1;31mOSError\u001b[0m                                   Traceback (most recent call last)",
      "Cell \u001b[1;32mIn[14], line 1\u001b[0m\n\u001b[1;32m----> 1\u001b[0m \u001b[38;5;28;01mwith\u001b[39;00m \u001b[38;5;28;43mopen\u001b[39;49m\u001b[43m(\u001b[49m\u001b[38;5;124;43m'\u001b[39;49m\u001b[38;5;124;43mhttps://data.cityofnewyork.us/resource/hvrh-b6nb.csv\u001b[39;49m\u001b[38;5;124;43m'\u001b[39;49m\u001b[43m)\u001b[49m \u001b[38;5;28;01mas\u001b[39;00m f:\n\u001b[0;32m      2\u001b[0m     \u001b[38;5;28;01mfor\u001b[39;00m row \u001b[38;5;129;01min\u001b[39;00m f:\n\u001b[0;32m      3\u001b[0m         \u001b[38;5;28mprint\u001b[39m(row)\n",
      "File \u001b[1;32mc:\\Users\\HrishiSingh\\DE35\\venv_ds\\Lib\\site-packages\\IPython\\core\\interactiveshell.py:324\u001b[0m, in \u001b[0;36m_modified_open\u001b[1;34m(file, *args, **kwargs)\u001b[0m\n\u001b[0;32m    317\u001b[0m \u001b[38;5;28;01mif\u001b[39;00m file \u001b[38;5;129;01min\u001b[39;00m {\u001b[38;5;241m0\u001b[39m, \u001b[38;5;241m1\u001b[39m, \u001b[38;5;241m2\u001b[39m}:\n\u001b[0;32m    318\u001b[0m     \u001b[38;5;28;01mraise\u001b[39;00m \u001b[38;5;167;01mValueError\u001b[39;00m(\n\u001b[0;32m    319\u001b[0m         \u001b[38;5;124mf\u001b[39m\u001b[38;5;124m\"\u001b[39m\u001b[38;5;124mIPython won\u001b[39m\u001b[38;5;124m'\u001b[39m\u001b[38;5;124mt let you open fd=\u001b[39m\u001b[38;5;132;01m{\u001b[39;00mfile\u001b[38;5;132;01m}\u001b[39;00m\u001b[38;5;124m by default \u001b[39m\u001b[38;5;124m\"\u001b[39m\n\u001b[0;32m    320\u001b[0m         \u001b[38;5;124m\"\u001b[39m\u001b[38;5;124mas it is likely to crash IPython. If you know what you are doing, \u001b[39m\u001b[38;5;124m\"\u001b[39m\n\u001b[0;32m    321\u001b[0m         \u001b[38;5;124m\"\u001b[39m\u001b[38;5;124myou can use builtins\u001b[39m\u001b[38;5;124m'\u001b[39m\u001b[38;5;124m open.\u001b[39m\u001b[38;5;124m\"\u001b[39m\n\u001b[0;32m    322\u001b[0m     )\n\u001b[1;32m--> 324\u001b[0m \u001b[38;5;28;01mreturn\u001b[39;00m \u001b[43mio_open\u001b[49m\u001b[43m(\u001b[49m\u001b[43mfile\u001b[49m\u001b[43m,\u001b[49m\u001b[43m \u001b[49m\u001b[38;5;241;43m*\u001b[39;49m\u001b[43margs\u001b[49m\u001b[43m,\u001b[49m\u001b[43m \u001b[49m\u001b[38;5;241;43m*\u001b[39;49m\u001b[38;5;241;43m*\u001b[39;49m\u001b[43mkwargs\u001b[49m\u001b[43m)\u001b[49m\n",
      "\u001b[1;31mOSError\u001b[0m: [Errno 22] Invalid argument: 'https://data.cityofnewyork.us/resource/hvrh-b6nb.csv'"
     ]
    }
   ],
   "source": [
    "with open('https://data.cityofnewyork.us/resource/hvrh-b6nb.csv') as f:\n",
    "    for row in f:\n",
    "        print(row)\n",
    "        break "
   ]
  },
  {
   "cell_type": "code",
   "execution_count": null,
   "metadata": {},
   "outputs": [],
   "source": []
  }
 ],
 "metadata": {
  "kernelspec": {
   "display_name": "Python 3",
   "language": "python",
   "name": "python3"
  },
  "language_info": {
   "codemirror_mode": {
    "name": "ipython",
    "version": 3
   },
   "file_extension": ".py",
   "mimetype": "text/x-python",
   "name": "python",
   "nbconvert_exporter": "python",
   "pygments_lexer": "ipython3",
   "version": "3.11.8"
  }
 },
 "nbformat": 4,
 "nbformat_minor": 2
}
