{
 "cells": [
  {
   "cell_type": "code",
   "execution_count": null,
   "metadata": {},
   "outputs": [],
   "source": [
    "from azure.storage.blob import BlobServiceClient, BlobClient\n",
    "import requests\n",
    "\n",
    "# Azure Storage connection string\n",
    "connection_string = \"<your_storage_connection_string>\"\n",
    "\n",
    "# URL of the file you want to download and upload\n",
    "url = \"<url_of_the_file>\"\n",
    "\n",
    "# Name of the container in Azure Storage\n",
    "container_name = \"<container_name>\"\n",
    "\n",
    "# Name of the blob (file) in Azure Storage\n",
    "blob_name = \"<blob_name>\"\n",
    "\n",
    "# Create a BlobServiceClient using the connection string\n",
    "blob_service_client = BlobServiceClient.from_connection_string(connection_string)\n",
    "\n",
    "# Get a BlobClient for the blob (file) you want to create or overwrite\n",
    "blob_client = blob_service_client.get_blob_client(container=container_name, blob=blob_name)\n",
    "\n",
    "# Download data from the URL\n",
    "response = requests.get(url)\n",
    "data = response.content\n",
    "\n",
    "# Upload data to the blob in Azure Storage\n",
    "blob_client.upload_blob(data)\n",
    "\n",
    "print(\"Data uploaded successfully.\")"
   ]
  },
  {
   "cell_type": "code",
   "execution_count": null,
   "metadata": {},
   "outputs": [],
   "source": [
    "def parquet_get(year, data_type):\n",
    "    months = ['01', '02', '03', '04', '05', '06', '07', '08', '09', '10', '11', '12']\n",
    "    df_list = []\n",
    "    for month in months:\n",
    "        df = pd.read_parquet(f\"https://d37ci6vzurychx.cloudfront.net/trip-data/{data_type}_tripdata_{year}-{month}.parquet\")\n",
    "        df_list.append(df)\n",
    "    return"
   ]
  }
 ],
 "metadata": {
  "language_info": {
   "name": "python"
  }
 },
 "nbformat": 4,
 "nbformat_minor": 2
}
