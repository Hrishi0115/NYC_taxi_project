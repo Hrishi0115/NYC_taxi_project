{
 "cells": [
  {
   "cell_type": "code",
   "execution_count": 8,
   "metadata": {},
   "outputs": [
    {
     "name": "stdout",
     "output_type": "stream",
     "text": [
      "Data uploaded successfully.\n"
     ]
    }
   ],
   "source": [
    "# chat gpt attempt - WORKS!!!\n",
    "def load_parquet_to_azure()\n",
    "from azure.storage.blob import BlobServiceClient\n",
    "\n",
    "# Azure Storage connection string\n",
    "connection_string = \"DefaultEndpointsProtocol=https;AccountName=triathlonnyc;AccountKey=wfxBgbmGNXsXavVUF48Zn7sBj5ZNgT60MTArVyDKwn0CdqVebvaYyMWDzKfddso2yX0iiyr2fcK4+AStTsLANQ==;EndpointSuffix=core.windows.net\"\n",
    "\n",
    "# URL of the file you want to download and upload\n",
    "month = '01'\n",
    "year = '2009'\n",
    "data_type = 'yellow'\n",
    "def parquet(month, year, data_type):\n",
    "    url = f\"https://d37ci6vzurychx.cloudfront.net/trip-data/{data_type}_tripdata_{year}-{month}.parquet\"\n",
    "    return url\n",
    "\n",
    "url = parquet(month, year, data_type)\n",
    "\n",
    "# Name of the container and blob (file) in Azure Storage\n",
    "container_name = f\"{year}\"\n",
    "blob_name = f\"{year}_{month}_{data_type}_data.parquet\"\n",
    "\n",
    "# Create a BlobServiceClient using the connection string\n",
    "blob_service_client = BlobServiceClient.from_connection_string(connection_string)\n",
    "\n",
    "# Get a BlobClient for the blob (file) you want to create or overwrite\n",
    "blob_client = blob_service_client.get_blob_client(container=container_name, blob=blob_name)\n",
    "\n",
    "# Upload data to the blob in Azure Storage directly from URL\n",
    "blob_client.upload_blob_from_url(url)\n",
    "\n",
    "print(\"Data uploaded successfully.\")"
   ]
  },
  {
   "cell_type": "code",
   "execution_count": 9,
   "metadata": {},
   "outputs": [],
   "source": [
    "# creating function\n",
    "from azure.storage.blob import BlobServiceClient\n",
    "\n",
    "def parquet(month, year, data_type):\n",
    "    url = f\"https://d37ci6vzurychx.cloudfront.net/trip-data/{data_type}_tripdata_{year}-{month}.parquet\"\n",
    "    return url\n",
    "\n",
    "# chat gpt attempt - WORKS!!!\n",
    "def load_parquet_to_azure(month, year, data_type):\n",
    "    # Azure Storage connection string\n",
    "    connection_string = \"DefaultEndpointsProtocol=https;AccountName=triathlonnyc;AccountKey=wfxBgbmGNXsXavVUF48Zn7sBj5ZNgT60MTArVyDKwn0CdqVebvaYyMWDzKfddso2yX0iiyr2fcK4+AStTsLANQ==;EndpointSuffix=core.windows.net\"\n",
    "    # URL of the file you want to download and upload\n",
    "    url = parquet(month, year, data_type)\n",
    "    # Name of the container and blob (file) in Azure Storage\n",
    "    container_name = f\"{year}\"\n",
    "    blob_name = f\"{year}_{month}_{data_type}_data.parquet\"\n",
    "    # Create a BlobServiceClient using the connection string\n",
    "    blob_service_client = BlobServiceClient.from_connection_string(connection_string)\n",
    "    # Get a BlobClient for the blob (file) you want to create or overwrite\n",
    "    blob_client = blob_service_client.get_blob_client(container=container_name, blob=blob_name)\n",
    "    # Upload data to the blob in Azure Storage directly from URL\n",
    "    blob_client.upload_blob_from_url(url)\n",
    "    print(\"Data uploaded successfully.\")"
   ]
  },
  {
   "cell_type": "code",
   "execution_count": 10,
   "metadata": {},
   "outputs": [
    {
     "name": "stdout",
     "output_type": "stream",
     "text": [
      "Data uploaded successfully.\n"
     ]
    }
   ],
   "source": [
    "month = '02'\n",
    "year = '2009'\n",
    "data_type = 'yellow'\n",
    "\n",
    "load_parquet_to_azure(month, year, data_type)"
   ]
  },
  {
   "cell_type": "markdown",
   "metadata": {},
   "source": [
    "1. for loop"
   ]
  },
  {
   "cell_type": "code",
   "execution_count": null,
   "metadata": {},
   "outputs": [],
   "source": [
    "\n",
    "# iterate\n",
    "for year in range(2009,2019,1):\n",
    "    # iterate over months\n",
    "    months = ['01', '02', '03', '04', '05', '06', '07', '08', '09', '10', '11', '12']\n",
    "    for month in months:\n",
    "        #"
   ]
  }
 ],
 "metadata": {
  "kernelspec": {
   "display_name": "venv_ds",
   "language": "python",
   "name": "python3"
  },
  "language_info": {
   "codemirror_mode": {
    "name": "ipython",
    "version": 3
   },
   "file_extension": ".py",
   "mimetype": "text/x-python",
   "name": "python",
   "nbconvert_exporter": "python",
   "pygments_lexer": "ipython3",
   "version": "3.11.8"
  }
 },
 "nbformat": 4,
 "nbformat_minor": 2
}
