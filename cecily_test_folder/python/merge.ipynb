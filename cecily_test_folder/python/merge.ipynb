{
 "cells": [
  {
   "cell_type": "code",
   "execution_count": 2,
   "metadata": {},
   "outputs": [
    {
     "name": "stdout",
     "output_type": "stream",
     "text": [
      "Requirement already satisfied: azure-storage-blob in c:\\users\\cecilybell\\de35\\venv_ds\\lib\\site-packages (12.19.1)\n",
      "Requirement already satisfied: azure-core<2.0.0,>=1.28.0 in c:\\users\\cecilybell\\de35\\venv_ds\\lib\\site-packages (from azure-storage-blob) (1.30.1)\n",
      "Requirement already satisfied: cryptography>=2.1.4 in c:\\users\\cecilybell\\de35\\venv_ds\\lib\\site-packages (from azure-storage-blob) (42.0.5)\n",
      "Requirement already satisfied: typing-extensions>=4.3.0 in c:\\users\\cecilybell\\de35\\venv_ds\\lib\\site-packages (from azure-storage-blob) (4.10.0)\n",
      "Requirement already satisfied: isodate>=0.6.1 in c:\\users\\cecilybell\\de35\\venv_ds\\lib\\site-packages (from azure-storage-blob) (0.6.1)\n",
      "Requirement already satisfied: requests>=2.21.0 in c:\\users\\cecilybell\\de35\\venv_ds\\lib\\site-packages (from azure-core<2.0.0,>=1.28.0->azure-storage-blob) (2.31.0)\n",
      "Requirement already satisfied: six>=1.11.0 in c:\\users\\cecilybell\\de35\\venv_ds\\lib\\site-packages (from azure-core<2.0.0,>=1.28.0->azure-storage-blob) (1.16.0)\n",
      "Requirement already satisfied: cffi>=1.12 in c:\\users\\cecilybell\\de35\\venv_ds\\lib\\site-packages (from cryptography>=2.1.4->azure-storage-blob) (1.16.0)\n",
      "Requirement already satisfied: pycparser in c:\\users\\cecilybell\\de35\\venv_ds\\lib\\site-packages (from cffi>=1.12->cryptography>=2.1.4->azure-storage-blob) (2.21)\n",
      "Requirement already satisfied: charset-normalizer<4,>=2 in c:\\users\\cecilybell\\de35\\venv_ds\\lib\\site-packages (from requests>=2.21.0->azure-core<2.0.0,>=1.28.0->azure-storage-blob) (3.3.2)\n",
      "Requirement already satisfied: idna<4,>=2.5 in c:\\users\\cecilybell\\de35\\venv_ds\\lib\\site-packages (from requests>=2.21.0->azure-core<2.0.0,>=1.28.0->azure-storage-blob) (3.6)\n",
      "Requirement already satisfied: urllib3<3,>=1.21.1 in c:\\users\\cecilybell\\de35\\venv_ds\\lib\\site-packages (from requests>=2.21.0->azure-core<2.0.0,>=1.28.0->azure-storage-blob) (2.2.1)\n",
      "Requirement already satisfied: certifi>=2017.4.17 in c:\\users\\cecilybell\\de35\\venv_ds\\lib\\site-packages (from requests>=2.21.0->azure-core<2.0.0,>=1.28.0->azure-storage-blob) (2024.2.2)\n",
      "Note: you may need to restart the kernel to use updated packages.\n"
     ]
    }
   ],
   "source": [
    "# imports\n",
    "\n",
    "%pip install azure-storage-blob\n",
    "from azure.storage.blob import BlobServiceClient, BlobClient\n",
    "\n",
    "import requests"
   ]
  },
  {
   "cell_type": "markdown",
   "metadata": {},
   "source": [
    "Find API endpoint for data on SODA API"
   ]
  },
  {
   "cell_type": "code",
   "execution_count": null,
   "metadata": {},
   "outputs": [],
   "source": []
  },
  {
   "cell_type": "markdown",
   "metadata": {},
   "source": [
    "Load data into Python object"
   ]
  },
  {
   "cell_type": "code",
   "execution_count": null,
   "metadata": {},
   "outputs": [],
   "source": []
  },
  {
   "cell_type": "markdown",
   "metadata": {},
   "source": [
    "Load data from Python object into Azure storage account"
   ]
  },
  {
   "cell_type": "code",
   "execution_count": null,
   "metadata": {},
   "outputs": [],
   "source": [
    "container_name = \"2009\"\n",
    "blob_name = \"2009_yellow_taxi_data\"\n",
    "storage_connection_string = \"DefaultEndpointsProtocol=https;AccountName=triathlonnyc;AccountKey=wfxBgbmGNXsXavVUF48Zn7sBj5ZNgT60MTArVyDKwn0CdqVebvaYyMWDzKfddso2yX0iiyr2fcK4+AStTsLANQ==;EndpointSuffix=core.windows.net\"\n",
    "\n",
    "blob_service_client = BlobServiceClient.from_connection_string(storage_connection_string)\n",
    "blob_client = blob_service_client.get_blob_client(container=container_name, blob=blob_name)\n",
    "\n",
    "# upload data to the blob\n",
    "blob_client.upload_blob(data)\n"
   ]
  },
  {
   "cell_type": "markdown",
   "metadata": {},
   "source": [
    "Combining all logic together"
   ]
  },
  {
   "cell_type": "code",
   "execution_count": 7,
   "metadata": {},
   "outputs": [
    {
     "data": {
      "text/plain": [
       "'2000'"
      ]
     },
     "execution_count": 7,
     "metadata": {},
     "output_type": "execute_result"
    }
   ],
   "source": [
    "# function for loading data into azure storage account\n",
    "\n",
    "def load_data_to_azure(year:int, data_type:str, data:dict):\n",
    "    '''A function to load data from a python object into Triathlon Azure \n",
    "    Storage Account'''\n",
    "    %pip install azure-storage-blob\n",
    "    from azure.storage.blob import BlobServiceClient, BlobClient\n",
    "    container_name = f\"{year}\"\n",
    "    blob_name = f\"{year}_{data_type}_data\"\n",
    "    storage_connection_string = \"DefaultEndpointsProtocol=https;AccountName=triathlonnyc;AccountKey=wfxBgbmGNXsXavVUF48Zn7sBj5ZNgT60MTArVyDKwn0CdqVebvaYyMWDzKfddso2yX0iiyr2fcK4+AStTsLANQ==;EndpointSuffix=core.windows.net\"\n",
    "    blob_service_client = BlobServiceClient.from_connection_string(storage_connection_string)\n",
    "    blob_client = blob_service_client.get_blob_client(container=container_name, blob=blob_name)\n",
    "    blob_client.upload_blob(data)"
   ]
  },
  {
   "cell_type": "code",
   "execution_count": 6,
   "metadata": {},
   "outputs": [
    {
     "name": "stdout",
     "output_type": "stream",
     "text": [
      "2009\n",
      "2010\n",
      "2011\n",
      "2012\n",
      "2013\n",
      "2014\n",
      "2015\n",
      "2016\n",
      "2017\n",
      "2018\n"
     ]
    }
   ],
   "source": [
    "# logic for loading data for all years for yellow taxi data \n",
    "\n",
    "\n",
    "for y in range(2009,2019,1):\n",
    "    # call function to get API end point\n",
    "\n",
    "    # call function to load data into python object using API\n",
    "    \n",
    "    # change to csv file\n",
    "\n",
    "    # load data to azure\n",
    "    load_data_to_azure(y, 'yellow_taxi', data)"
   ]
  }
 ],
 "metadata": {
  "kernelspec": {
   "display_name": "venv_ds",
   "language": "python",
   "name": "python3"
  },
  "language_info": {
   "codemirror_mode": {
    "name": "ipython",
    "version": 3
   },
   "file_extension": ".py",
   "mimetype": "text/x-python",
   "name": "python",
   "nbconvert_exporter": "python",
   "pygments_lexer": "ipython3",
   "version": "3.11.8"
  }
 },
 "nbformat": 4,
 "nbformat_minor": 2
}
