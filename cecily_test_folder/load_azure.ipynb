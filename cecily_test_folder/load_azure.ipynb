{
 "cells": [
  {
   "cell_type": "code",
   "execution_count": 1,
   "metadata": {},
   "outputs": [
    {
     "name": "stdout",
     "output_type": "stream",
     "text": [
      "Collecting azure-storage-blob\n",
      "  Downloading azure_storage_blob-12.19.1-py3-none-any.whl.metadata (26 kB)\n",
      "Collecting azure-core<2.0.0,>=1.28.0 (from azure-storage-blob)\n",
      "  Downloading azure_core-1.30.1-py3-none-any.whl.metadata (37 kB)\n",
      "Collecting cryptography>=2.1.4 (from azure-storage-blob)\n",
      "  Downloading cryptography-42.0.5-cp39-abi3-win_amd64.whl.metadata (5.4 kB)\n",
      "Requirement already satisfied: typing-extensions>=4.3.0 in c:\\users\\cecilybell\\de35\\venv_ds\\lib\\site-packages (from azure-storage-blob) (4.10.0)\n",
      "Collecting isodate>=0.6.1 (from azure-storage-blob)\n",
      "  Downloading isodate-0.6.1-py2.py3-none-any.whl.metadata (9.6 kB)\n",
      "Requirement already satisfied: requests>=2.21.0 in c:\\users\\cecilybell\\de35\\venv_ds\\lib\\site-packages (from azure-core<2.0.0,>=1.28.0->azure-storage-blob) (2.31.0)\n",
      "Requirement already satisfied: six>=1.11.0 in c:\\users\\cecilybell\\de35\\venv_ds\\lib\\site-packages (from azure-core<2.0.0,>=1.28.0->azure-storage-blob) (1.16.0)\n",
      "Requirement already satisfied: cffi>=1.12 in c:\\users\\cecilybell\\de35\\venv_ds\\lib\\site-packages (from cryptography>=2.1.4->azure-storage-blob) (1.16.0)\n",
      "Requirement already satisfied: pycparser in c:\\users\\cecilybell\\de35\\venv_ds\\lib\\site-packages (from cffi>=1.12->cryptography>=2.1.4->azure-storage-blob) (2.21)\n",
      "Requirement already satisfied: charset-normalizer<4,>=2 in c:\\users\\cecilybell\\de35\\venv_ds\\lib\\site-packages (from requests>=2.21.0->azure-core<2.0.0,>=1.28.0->azure-storage-blob) (3.3.2)\n",
      "Requirement already satisfied: idna<4,>=2.5 in c:\\users\\cecilybell\\de35\\venv_ds\\lib\\site-packages (from requests>=2.21.0->azure-core<2.0.0,>=1.28.0->azure-storage-blob) (3.6)\n",
      "Requirement already satisfied: urllib3<3,>=1.21.1 in c:\\users\\cecilybell\\de35\\venv_ds\\lib\\site-packages (from requests>=2.21.0->azure-core<2.0.0,>=1.28.0->azure-storage-blob) (2.2.1)\n",
      "Requirement already satisfied: certifi>=2017.4.17 in c:\\users\\cecilybell\\de35\\venv_ds\\lib\\site-packages (from requests>=2.21.0->azure-core<2.0.0,>=1.28.0->azure-storage-blob) (2024.2.2)\n",
      "Downloading azure_storage_blob-12.19.1-py3-none-any.whl (394 kB)\n",
      "   ---------------------------------------- 0.0/394.5 kB ? eta -:--:--\n",
      "   ------- -------------------------------- 71.7/394.5 kB 2.0 MB/s eta 0:00:01\n",
      "   ---------------------------------------  389.1/394.5 kB 6.0 MB/s eta 0:00:01\n",
      "   ---------------------------------------- 394.5/394.5 kB 4.1 MB/s eta 0:00:00\n",
      "Downloading azure_core-1.30.1-py3-none-any.whl (193 kB)\n",
      "   ---------------------------------------- 0.0/193.4 kB ? eta -:--:--\n",
      "   --------------------------------------- 193.4/193.4 kB 12.2 MB/s eta 0:00:00\n",
      "Downloading cryptography-42.0.5-cp39-abi3-win_amd64.whl (2.9 MB)\n",
      "   ---------------------------------------- 0.0/2.9 MB ? eta -:--:--\n",
      "   --------------------- ------------------ 1.6/2.9 MB 48.6 MB/s eta 0:00:01\n",
      "   ---------------------------------------  2.9/2.9 MB 45.7 MB/s eta 0:00:01\n",
      "   ---------------------------------------- 2.9/2.9 MB 36.5 MB/s eta 0:00:00\n",
      "Downloading isodate-0.6.1-py2.py3-none-any.whl (41 kB)\n",
      "   ---------------------------------------- 0.0/41.7 kB ? eta -:--:--\n",
      "   ---------------------------------------- 41.7/41.7 kB ? eta 0:00:00\n",
      "Installing collected packages: isodate, cryptography, azure-core, azure-storage-blob\n",
      "Successfully installed azure-core-1.30.1 azure-storage-blob-12.19.1 cryptography-42.0.5 isodate-0.6.1\n",
      "Note: you may need to restart the kernel to use updated packages.\n"
     ]
    }
   ],
   "source": [
    "%pip install azure-storage-blob"
   ]
  },
  {
   "cell_type": "code",
   "execution_count": 2,
   "metadata": {},
   "outputs": [],
   "source": [
    "from azure.storage.blob import BlobServiceClient, BlobClient"
   ]
  },
  {
   "cell_type": "code",
   "execution_count": 3,
   "metadata": {},
   "outputs": [],
   "source": [
    "url = r\"https://d37ci6vzurychx.cloudfront.net/trip-data/yellow_tripdata_2009-01.parquet\"\n",
    "container_name = \"nytaxi\"\n",
    "blob_name = \"2009_jan_data\"\n",
    "storage_connection_string = \"DefaultEndpointsProtocol=https;AccountName=cecilybell;AccountKey=5Pkdeq6pxY4QM8kt8ERqWNgA7e9HMotCsZdZKgv3XMO1je4HehWq9oiJKuj2HQ4UkYvS4nwLwa4M+AStkN9Mbg==;EndpointSuffix=core.windows.net\""
   ]
  },
  {
   "cell_type": "code",
   "execution_count": 4,
   "metadata": {},
   "outputs": [],
   "source": [
    "# create a blobserviceclient object using the connection string\n",
    "\n",
    "blob_service_client = BlobServiceClient.from_connection_string(storage_connection_string)"
   ]
  },
  {
   "cell_type": "code",
   "execution_count": 5,
   "metadata": {},
   "outputs": [],
   "source": [
    "# create blobclient object for container and blob\n",
    "\n",
    "blob_client = blob_service_client.get_blob_client(container=container_name, blob=blob_name)"
   ]
  },
  {
   "cell_type": "code",
   "execution_count": 6,
   "metadata": {},
   "outputs": [],
   "source": [
    "# download the data from the url\n",
    "\n",
    "import requests\n",
    "\n",
    "response = requests.get(url)\n",
    "data = response.content"
   ]
  },
  {
   "cell_type": "code",
   "execution_count": 7,
   "metadata": {},
   "outputs": [
    {
     "data": {
      "text/plain": [
       "{'etag': '\"0x8DC57B7D2EAE976\"',\n",
       " 'last_modified': datetime.datetime(2024, 4, 8, 10, 37, tzinfo=datetime.timezone.utc),\n",
       " 'content_md5': None,\n",
       " 'content_crc64': bytearray(b'\\x8c\\x101\\x9f\\xe0\\r\\x99\\xa1'),\n",
       " 'client_request_id': 'eeb200d7-f593-11ee-94a7-7c214a9d1ea7',\n",
       " 'request_id': '88eba9c9-401e-0049-01a0-895966000000',\n",
       " 'version': '2023-11-03',\n",
       " 'version_id': None,\n",
       " 'date': datetime.datetime(2024, 4, 8, 10, 37, tzinfo=datetime.timezone.utc),\n",
       " 'request_server_encrypted': True,\n",
       " 'encryption_key_sha256': None,\n",
       " 'encryption_scope': None}"
      ]
     },
     "execution_count": 7,
     "metadata": {},
     "output_type": "execute_result"
    }
   ],
   "source": [
    "# upload data to the blob\n",
    "\n",
    "blob_client.upload_blob(data)"
   ]
  }
 ],
 "metadata": {
  "kernelspec": {
   "display_name": "venv_ds",
   "language": "python",
   "name": "python3"
  },
  "language_info": {
   "codemirror_mode": {
    "name": "ipython",
    "version": 3
   },
   "file_extension": ".py",
   "mimetype": "text/x-python",
   "name": "python",
   "nbconvert_exporter": "python",
   "pygments_lexer": "ipython3",
   "version": "3.11.8"
  }
 },
 "nbformat": 4,
 "nbformat_minor": 2
}
