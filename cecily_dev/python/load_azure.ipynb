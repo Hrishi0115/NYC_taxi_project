{
 "cells": [
  {
   "cell_type": "markdown",
   "metadata": {},
   "source": [
    "Loading data from Python to Azure Blob Storage"
   ]
  },
  {
   "cell_type": "code",
   "execution_count": null,
   "metadata": {},
   "outputs": [],
   "source": [
    "%pip install azure-storage-blob"
   ]
  },
  {
   "cell_type": "code",
   "execution_count": 1,
   "metadata": {},
   "outputs": [],
   "source": [
    "from azure.storage.blob import BlobServiceClient, BlobClient"
   ]
  },
  {
   "cell_type": "code",
   "execution_count": 3,
   "metadata": {},
   "outputs": [],
   "source": [
    "url = r\"https://d37ci6vzurychx.cloudfront.net/trip-data/yellow_tripdata_2009-01.parquet\"\n",
    "\n",
    "\n",
    "container_name = \"2009\"\n",
    "blob_name = \"2009_data\"\n",
    "storage_connection_string = \"DefaultEndpointsProtocol=https;AccountName=triathlonnyc;AccountKey=wfxBgbmGNXsXavVUF48Zn7sBj5ZNgT60MTArVyDKwn0CdqVebvaYyMWDzKfddso2yX0iiyr2fcK4+AStTsLANQ==;EndpointSuffix=core.windows.net\""
   ]
  },
  {
   "cell_type": "markdown",
   "metadata": {},
   "source": [
    "- get the URL\n",
    "\n",
    "- funciton to iterate through the years (2009 - 2018)\n",
    "\n",
    "1. load data into python object\n",
    "2. load into azure "
   ]
  },
  {
   "cell_type": "code",
   "execution_count": 4,
   "metadata": {},
   "outputs": [],
   "source": [
    "# create a blobserviceclient object using the connection string\n",
    "\n",
    "blob_service_client = BlobServiceClient.from_connection_string(storage_connection_string)"
   ]
  },
  {
   "cell_type": "code",
   "execution_count": 5,
   "metadata": {},
   "outputs": [],
   "source": [
    "# create blobclient object for container and blob\n",
    "\n",
    "blob_client = blob_service_client.get_blob_client(container=container_name, blob=blob_name)"
   ]
  },
  {
   "cell_type": "code",
   "execution_count": 6,
   "metadata": {},
   "outputs": [],
   "source": [
    "# download the data from the url\n",
    "\n",
    "import requests\n",
    "\n",
    "response = requests.get(url)\n",
    "data = response.content"
   ]
  },
  {
   "cell_type": "code",
   "execution_count": 7,
   "metadata": {},
   "outputs": [
    {
     "data": {
      "text/plain": [
       "{'etag': '\"0x8DC57B7D2EAE976\"',\n",
       " 'last_modified': datetime.datetime(2024, 4, 8, 10, 37, tzinfo=datetime.timezone.utc),\n",
       " 'content_md5': None,\n",
       " 'content_crc64': bytearray(b'\\x8c\\x101\\x9f\\xe0\\r\\x99\\xa1'),\n",
       " 'client_request_id': 'eeb200d7-f593-11ee-94a7-7c214a9d1ea7',\n",
       " 'request_id': '88eba9c9-401e-0049-01a0-895966000000',\n",
       " 'version': '2023-11-03',\n",
       " 'version_id': None,\n",
       " 'date': datetime.datetime(2024, 4, 8, 10, 37, tzinfo=datetime.timezone.utc),\n",
       " 'request_server_encrypted': True,\n",
       " 'encryption_key_sha256': None,\n",
       " 'encryption_scope': None}"
      ]
     },
     "execution_count": 7,
     "metadata": {},
     "output_type": "execute_result"
    }
   ],
   "source": [
    "# upload data to the blob\n",
    "\n",
    "blob_client.upload_blob(data)"
   ]
  }
 ],
 "metadata": {
  "kernelspec": {
   "display_name": "venv_ds",
   "language": "python",
   "name": "python3"
  },
  "language_info": {
   "codemirror_mode": {
    "name": "ipython",
    "version": 3
   },
   "file_extension": ".py",
   "mimetype": "text/x-python",
   "name": "python",
   "nbconvert_exporter": "python",
   "pygments_lexer": "ipython3",
   "version": "3.11.8"
  }
 },
 "nbformat": 4,
 "nbformat_minor": 2
}
