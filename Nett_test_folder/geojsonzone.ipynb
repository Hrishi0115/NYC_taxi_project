{
 "cells": [
  {
   "cell_type": "code",
   "execution_count": 2,
   "metadata": {},
   "outputs": [
    {
     "ename": "TypeError",
     "evalue": "cannot unpack non-iterable ellipsis object",
     "output_type": "error",
     "traceback": [
      "\u001b[1;31m---------------------------------------------------------------------------\u001b[0m",
      "\u001b[1;31mTypeError\u001b[0m                                 Traceback (most recent call last)",
      "Cell \u001b[1;32mIn[2], line 11\u001b[0m\n\u001b[0;32m      8\u001b[0m coordinates \u001b[38;5;241m=\u001b[39m [(\u001b[38;5;241m40.7128\u001b[39m, \u001b[38;5;241m-\u001b[39m\u001b[38;5;241m74.0060\u001b[39m), (\u001b[38;5;241m40.7484\u001b[39m, \u001b[38;5;241m-\u001b[39m\u001b[38;5;241m73.9857\u001b[39m), \u001b[38;5;241m.\u001b[39m\u001b[38;5;241m.\u001b[39m\u001b[38;5;241m.\u001b[39m]\n\u001b[0;32m     10\u001b[0m \u001b[38;5;66;03m# Convert coordinates to Points\u001b[39;00m\n\u001b[1;32m---> 11\u001b[0m points \u001b[38;5;241m=\u001b[39m \u001b[43m[\u001b[49m\u001b[43mPoint\u001b[49m\u001b[43m(\u001b[49m\u001b[43mlon\u001b[49m\u001b[43m,\u001b[49m\u001b[43m \u001b[49m\u001b[43mlat\u001b[49m\u001b[43m)\u001b[49m\u001b[43m \u001b[49m\u001b[38;5;28;43;01mfor\u001b[39;49;00m\u001b[43m \u001b[49m\u001b[43mlat\u001b[49m\u001b[43m,\u001b[49m\u001b[43m \u001b[49m\u001b[43mlon\u001b[49m\u001b[43m \u001b[49m\u001b[38;5;129;43;01min\u001b[39;49;00m\u001b[43m \u001b[49m\u001b[43mcoordinates\u001b[49m\u001b[43m]\u001b[49m\n\u001b[0;32m     13\u001b[0m \u001b[38;5;66;03m# Create a GeoDataFrame from the points\u001b[39;00m\n\u001b[0;32m     14\u001b[0m points_gdf \u001b[38;5;241m=\u001b[39m gpd\u001b[38;5;241m.\u001b[39mGeoDataFrame(geometry\u001b[38;5;241m=\u001b[39mpoints, crs\u001b[38;5;241m=\u001b[39mzones\u001b[38;5;241m.\u001b[39mcrs)\n",
      "Cell \u001b[1;32mIn[2], line 11\u001b[0m, in \u001b[0;36m<listcomp>\u001b[1;34m(.0)\u001b[0m\n\u001b[0;32m      8\u001b[0m coordinates \u001b[38;5;241m=\u001b[39m [(\u001b[38;5;241m40.7128\u001b[39m, \u001b[38;5;241m-\u001b[39m\u001b[38;5;241m74.0060\u001b[39m), (\u001b[38;5;241m40.7484\u001b[39m, \u001b[38;5;241m-\u001b[39m\u001b[38;5;241m73.9857\u001b[39m), \u001b[38;5;241m.\u001b[39m\u001b[38;5;241m.\u001b[39m\u001b[38;5;241m.\u001b[39m]\n\u001b[0;32m     10\u001b[0m \u001b[38;5;66;03m# Convert coordinates to Points\u001b[39;00m\n\u001b[1;32m---> 11\u001b[0m points \u001b[38;5;241m=\u001b[39m [Point(lon, lat) \u001b[38;5;28;01mfor\u001b[39;00m lat, lon \u001b[38;5;129;01min\u001b[39;00m coordinates]\n\u001b[0;32m     13\u001b[0m \u001b[38;5;66;03m# Create a GeoDataFrame from the points\u001b[39;00m\n\u001b[0;32m     14\u001b[0m points_gdf \u001b[38;5;241m=\u001b[39m gpd\u001b[38;5;241m.\u001b[39mGeoDataFrame(geometry\u001b[38;5;241m=\u001b[39mpoints, crs\u001b[38;5;241m=\u001b[39mzones\u001b[38;5;241m.\u001b[39mcrs)\n",
      "\u001b[1;31mTypeError\u001b[0m: cannot unpack non-iterable ellipsis object"
     ]
    }
   ],
   "source": [
    "#Attempt 1\n",
    "import geopandas as gpd\n",
    "from shapely.geometry import Point\n",
    "\n",
    "# Load zone boundary data\n",
    "zones = gpd.read_file(r\"C:\\Users\\NettajiBabuji\\Downloads\\taxi_zones.json\")\n",
    "\n",
    "# Assuming coordinates is a list of (latitude, longitude) tuples\n",
    "coordinates = [(40.7128, -74.0060), (40.7484, -73.9857), ...]\n",
    "\n",
    "# Convert coordinates to Points\n",
    "points = [Point(lon, lat) for lat, lon in coordinates]\n",
    "\n",
    "# Create a GeoDataFrame from the points\n",
    "points_gdf = gpd.GeoDataFrame(geometry=points, crs=zones.crs)\n",
    "\n",
    "# Perform spatial join to find which zone each point falls within\n",
    "joined = gpd.sjoin(points_gdf, zones, how=\"left\", op=\"within\")\n",
    "\n",
    "# Extract zone IDs\n",
    "zone_ids = joined['zone_id']\n",
    "\n",
    "# Output results\n",
    "for coordinate, zone_id in zip(coordinates, zone_ids):\n",
    "    print(f\"Coordinate {coordinate} is in zone ID {zone_id}\")\n"
   ]
  },
  {
   "cell_type": "code",
   "execution_count": 4,
   "metadata": {},
   "outputs": [
    {
     "name": "stderr",
     "output_type": "stream",
     "text": [
      "C:\\Users\\NettajiBabuji\\AppData\\Local\\Temp\\ipykernel_28056\\4169500696.py:38: ShapelyDeprecationWarning: The 'type' attribute is deprecated, and will be removed in the future. You can use the 'geom_type' attribute instead.\n",
      "  if row.type == 'MultiPolygon':\n",
      "C:\\Users\\NettajiBabuji\\AppData\\Local\\Temp\\ipykernel_28056\\4169500696.py:50: FutureWarning: This function is deprecated. See: https://pyproj4.github.io/pyproj/stable/gotchas.html#upgrading-to-pyproj-2-from-pyproj-1\n",
      "  return [transform(lcc_proj, wgs84_projection, x, y) for x, y in lon_lat_list]\n",
      "C:\\Users\\NettajiBabuji\\AppData\\Local\\Temp\\ipykernel_28056\\4169500696.py:53: FutureWarning: This function is deprecated. See: https://pyproj4.github.io/pyproj/stable/gotchas.html#upgrading-to-pyproj-2-from-pyproj-1\n",
      "  return [transform(lcc_proj, wgs84_projection, x, y) for x, y in zip(lon, lat)]\n"
     ]
    },
    {
     "data": {
      "text/plain": [
       "1    [(-70.27479911863823, 40.55467052911126), (-70...\n",
       "2    [(-70.28598397073505, 40.80876781854231), (-70...\n",
       "3    [(-70.42597765742205, 40.66333200122877), (-70...\n",
       "4    [(-70.63160731859519, 40.5124118784895), (-70....\n",
       "Name: geometry, dtype: object"
      ]
     },
     "metadata": {},
     "output_type": "display_data"
    }
   ],
   "source": [
    "## Tyler's attempt\n",
    " \n",
    " \n",
    "import geopandas as gpd\n",
    "from shapely.geometry import Point\n",
    "from pyproj import Proj, transform\n",
    " \n",
    " \n",
    "# Load the GeoJSON file containing multipolygon geometries\n",
    "nyc_zones_in = gpd.read_file(r'C:\\Users\\NettajiBabuji\\Downloads\\taxi_zones.json')\n",
    " \n",
    "# Reproject the GeoDataFrame to EPSG:4326 (latitude-longitude)\n",
    "source_crs = {'init': 'epsg:2263'}  # New York State Plane Coordinate System\n",
    "target_crs = {'init': 'epsg:4326'}  # WGS84 (latitude/longitude)\n",
    " \n",
    "nyc_zones = nyc_zones_in.to_crs(epsg=4326)\n",
    " \n",
    " \n",
    "# Define the projection for LCC (replace these values with your specific projection parameters)\n",
    "lcc_proj = Proj(proj='lcc',  # Lambert Conformal Conic\n",
    "                       datum='WGS84',  # WGS84 datum\n",
    "                       ellps='WGS84',\n",
    "                       lat_1=40.666667, lon_1=-74,  # First standard parallel and longitude\n",
    "                       lat_2=41.033333, lon_2=-74,  # Second standard parallel and longitude\n",
    "                       lat_0=40.166667, lon_0=-74,\n",
    "                       units='us-ft')  # Latitude and longitude of origin\n",
    " \n",
    "wgs84_projection = Proj(proj='latlong', datum='WGS84', ellps='WGS84', no_defs=True)\n",
    " \n",
    " \n",
    "#display(nyc_zones)\n",
    "#print(nyc_zones.type)\n",
    " \n",
    "# # Define a function to extract latitude and longitude from a geometry\n",
    "def extract_lon_lat(row):\n",
    "    # print(row)\n",
    " \n",
    "    if row.type == 'MultiPolygon':\n",
    " \n",
    "        lon_lat_list = []\n",
    " \n",
    "        # Iterate over each polygon in the MultiPolygon\n",
    "        for polygon in nyc_zones.loc[1]['geometry'].geoms:\n",
    "            # Access exterior coordinates of the polygon\n",
    "            x_coords, y_coords = polygon.exterior.coords.xy\n",
    "           \n",
    "            # Convert the exterior coordinates to latitude and longitude using the projection\n",
    "            lon_lat_list.extend([(x, y) for x, y in zip(x_coords, y_coords)])\n",
    " \n",
    "        return [transform(lcc_proj, wgs84_projection, x, y) for x, y in lon_lat_list]\n",
    "    else:\n",
    "        lon, lat = row.exterior.coords.xy\n",
    "        return [transform(lcc_proj, wgs84_projection, x, y) for x, y in zip(lon, lat)]\n",
    " \n",
    "# # Apply the function to the geometry column to get latitudes and longitudes\n",
    "#nyc_zones['lon_lat'] = nyc_zones.apply(extract_lon_lat)\n",
    " \n",
    "test = nyc_zones.loc[1:4]['geometry'].apply(extract_lon_lat)\n",
    "display(test)\n",
    " \n",
    "# nyc_zones['lon_lat'] = nyc_zones['geometry'].apply(extract_lon_lat)\n",
    "# display(nyc_zones)"
   ]
  }
 ],
 "metadata": {
  "kernelspec": {
   "display_name": "Python 3",
   "language": "python",
   "name": "python3"
  },
  "language_info": {
   "codemirror_mode": {
    "name": "ipython",
    "version": 3
   },
   "file_extension": ".py",
   "mimetype": "text/x-python",
   "name": "python",
   "nbconvert_exporter": "python",
   "pygments_lexer": "ipython3",
   "version": "3.11.8"
  }
 },
 "nbformat": 4,
 "nbformat_minor": 2
}
