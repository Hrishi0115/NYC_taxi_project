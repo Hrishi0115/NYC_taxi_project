{
 "cells": [
  {
   "cell_type": "code",
   "execution_count": null,
   "metadata": {},
   "outputs": [],
   "source": []
  },
  {
   "cell_type": "code",
   "execution_count": null,
   "metadata": {},
   "outputs": [],
   "source": []
  },
  {
   "cell_type": "code",
   "execution_count": null,
   "metadata": {},
   "outputs": [],
   "source": []
  },
  {
   "cell_type": "code",
   "execution_count": null,
   "metadata": {},
   "outputs": [],
   "source": [
    "# function for loading data into azure storage account\n",
    "\n",
    "def load_data_to_azure(year:int, data_type:str, data:dict):\n",
    "    '''A function to load data from a python object into Triathlon Azure \n",
    "    Storage Account'''\n",
    "    %pip install azure-storage-blob\n",
    "    from azure.storage.blob import BlobServiceClient, BlobClient\n",
    "    container_name = f\"{year}\"\n",
    "    blob_name = f\"{year}_{data_type}_data\"\n",
    "    storage_connection_string = \"DefaultEndpointsProtocol=https;AccountName=triathlonnyc;AccountKey=wfxBgbmGNXsXavVUF48Zn7sBj5ZNgT60MTArVyDKwn0CdqVebvaYyMWDzKfddso2yX0iiyr2fcK4+AStTsLANQ==;EndpointSuffix=core.windows.net\"\n",
    "    blob_service_client = BlobServiceClient.from_connection_string(storage_connection_string)\n",
    "    blob_client = blob_service_client.get_blob_client(container=container_name, blob=blob_name)\n",
    "    blob_client.upload_blob(data)"
   ]
  },
  {
   "cell_type": "code",
   "execution_count": null,
   "metadata": {},
   "outputs": [],
   "source": [
    "# logic for loading data for all years for yellow taxi data \n",
    "\n",
    "\n",
    "for y in range(2009,2019,1):\n",
    "    # call function to get API end point\n",
    "\n",
    "    # call function to load data into python object using API\n",
    "    \n",
    "    # change to csv file\n",
    "\n",
    "    # load data to azure\n",
    "    load_data_to_azure(y, 'yellow_taxi', data)"
   ]
  }
 ],
 "metadata": {
  "language_info": {
   "name": "python"
  }
 },
 "nbformat": 4,
 "nbformat_minor": 2
}
