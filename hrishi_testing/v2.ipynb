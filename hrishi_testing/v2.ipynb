{
 "cells": [
  {
   "cell_type": "code",
   "execution_count": 2,
   "metadata": {},
   "outputs": [],
   "source": [
    "def parquet(month, year, data):\n",
    "    file = f\"https://d37ci6vzurychx.cloudfront.net/trip-data/{data}_tripdata_{year}-{month}.parquet\"\n",
    "    return file "
   ]
  },
  {
   "cell_type": "code",
   "execution_count": 5,
   "metadata": {},
   "outputs": [
    {
     "data": {
      "text/plain": [
       "'https://d37ci6vzurychx.cloudfront.net/trip-data/green_tripdata_2024-04.parquet'"
      ]
     },
     "execution_count": 5,
     "metadata": {},
     "output_type": "execute_result"
    }
   ],
   "source": [
    "parquet('04', '2024', 'green')"
   ]
  },
  {
   "cell_type": "code",
   "execution_count": null,
   "metadata": {},
   "outputs": [],
   "source": [
    "# r\"https://d37ci6vzurychx.cloudfront.net/trip-data/yellow_tripdata_2019-05.parquet\" - yellow \n",
    "\n",
    "# https://d37ci6vzurychx.cloudfront.net/trip-data/green_tripdata_2023-02.parquet  - green \n",
    "\n",
    "# https://d37ci6vzurychx.cloudfront.net/trip-data/fhv_tripdata_2023-01.parquet - fhv \n",
    "\n",
    "# https://d37ci6vzurychx.cloudfront.net/trip-data/fhvhv_tripdata_2023-01.parquet = fhvhv "
   ]
  }
 ],
 "metadata": {
  "kernelspec": {
   "display_name": "venv_ds",
   "language": "python",
   "name": "python3"
  },
  "language_info": {
   "codemirror_mode": {
    "name": "ipython",
    "version": 3
   },
   "file_extension": ".py",
   "mimetype": "text/x-python",
   "name": "python",
   "nbconvert_exporter": "python",
   "pygments_lexer": "ipython3",
   "version": "3.11.8"
  }
 },
 "nbformat": 4,
 "nbformat_minor": 2
}
