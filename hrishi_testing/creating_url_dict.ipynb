{
 "cells": [
  {
   "cell_type": "code",
   "execution_count": 26,
   "metadata": {},
   "outputs": [],
   "source": [
    "import requests \n",
    "\n",
    "years = [str(year) for year in range(2009, 2019)]\n",
    "\n",
    "months = [f'0{month}' if month < 10 else month for month in range(1,13)]\n",
    "\n",
    "# types = ['green', 'yellow', 'fhv', 'fhvhv']\n",
    "\n",
    "data = 'yellow'\n",
    "\n",
    "list_of_dict = []\n",
    "\n",
    "for year in years:\n",
    "    for month in months:\n",
    "        # full_url = f\"https://d37ci6vzurychx.cloudfront.net/trip-data/{data}_tripdata_{year}-{month}.parquet\"\n",
    "        # repsonse = requests.head(full_url)\n",
    "        dct = {}\n",
    "        dct['sourceBaseURL'] = 'https://d37ci6vzurychx.cloudfront.net/trip-data/'\n",
    "        dct['sourceRelativeURL'] = f'{data}_tripdata_{year}-{month}.parquet'\n",
    "        dct['SinkFileName'] = f'{data}_tripdata_{year}-{month}.parquet'\n",
    "        list_of_dict.append(dct)\n",
    "\n",
    "\n",
    "\n",
    "# url = f\"https://d37ci6vzurychx.cloudfront.net/trip-data/{data}_tripdata_{year}-{month}.parquet\""
   ]
  },
  {
   "cell_type": "code",
   "execution_count": null,
   "metadata": {},
   "outputs": [],
   "source": [
    "# check if the download file exists "
   ]
  },
  {
   "cell_type": "code",
   "execution_count": 16,
   "metadata": {},
   "outputs": [
    {
     "data": {
      "text/plain": [
       "72"
      ]
     },
     "execution_count": 16,
     "metadata": {},
     "output_type": "execute_result"
    }
   ],
   "source": [
    "len(list_of_dict)"
   ]
  },
  {
   "cell_type": "code",
   "execution_count": 27,
   "metadata": {},
   "outputs": [],
   "source": [
    "import json\n",
    "\n",
    "with open(f'{data}_data.json', 'w') as json_file:\n",
    "    json.dump(list_of_dict, json_file, indent=4)"
   ]
  },
  {
   "cell_type": "code",
   "execution_count": 36,
   "metadata": {},
   "outputs": [
    {
     "name": "stdout",
     "output_type": "stream",
     "text": [
      "https://d37ci6vzurychx.cloudfront.net/trip-data/green_tripdata_2013-08.parquet\n",
      "not exists\n"
     ]
    }
   ],
   "source": [
    "import requests \n",
    "data = 'green'\n",
    "year = '2013'\n",
    "month = '08'\n",
    "url = f\"https://d37ci6vzurychx.cloudfront.net/trip-data/{data}_tripdata_{year}-{month}.parquet\"\n",
    "print(url)\n",
    "response = requests.head(url)\n",
    "if response.status_code == 200:\n",
    "    print('exists')\n",
    "else:\n",
    "    print('not exists')\n",
    "\n"
   ]
  },
  {
   "cell_type": "code",
   "execution_count": 40,
   "metadata": {},
   "outputs": [],
   "source": [
    "import requests \n",
    "\n",
    "years = [str(year) for year in range(2009, 2019)]\n",
    "\n",
    "months = [f'0{month}' if month < 10 else month for month in range(1,13)]\n",
    "\n",
    "# types = ['green', 'yellow', 'fhv', 'fhvhv']\n",
    "\n",
    "data = 'fhvhv'\n",
    "\n",
    "list_of_dict = []\n",
    "\n",
    "for year in years:\n",
    "    for month in months:\n",
    "        full_url = f\"https://d37ci6vzurychx.cloudfront.net/trip-data/{data}_tripdata_{year}-{month}.parquet\"\n",
    "        response = requests.head(full_url)\n",
    "        if response.status_code == 200: \n",
    "            dct = {}\n",
    "            dct['sourceBaseURL'] = 'https://d37ci6vzurychx.cloudfront.net/trip-data/'\n",
    "            dct['sourceRelativeURL'] = f'{data}_tripdata_{year}-{month}.parquet'\n",
    "            dct['SinkFileName'] = f'{data}_tripdata_{year}-{month}.parquet'\n",
    "            list_of_dict.append(dct)\n"
   ]
  },
  {
   "cell_type": "code",
   "execution_count": 39,
   "metadata": {},
   "outputs": [],
   "source": [
    "import json\n",
    "\n",
    "with open(f'{data}_data.json', 'w') as json_file:\n",
    "    json.dump(list_of_dict, json_file, indent=4)"
   ]
  }
 ],
 "metadata": {
  "kernelspec": {
   "display_name": "venv_ds",
   "language": "python",
   "name": "python3"
  },
  "language_info": {
   "codemirror_mode": {
    "name": "ipython",
    "version": 3
   },
   "file_extension": ".py",
   "mimetype": "text/x-python",
   "name": "python",
   "nbconvert_exporter": "python",
   "pygments_lexer": "ipython3",
   "version": "3.11.8"
  }
 },
 "nbformat": 4,
 "nbformat_minor": 2
}
