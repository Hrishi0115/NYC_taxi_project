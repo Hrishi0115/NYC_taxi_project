{
 "cells": [
  {
   "cell_type": "code",
   "execution_count": 10,
   "metadata": {},
   "outputs": [],
   "source": [
    "import requests\n",
    "\n",
    "url = 'https://data.cityofnewyork.us/resource/hvrh-b6nb.json'\n",
    "\n",
    "r = requests.get(url, )\n",
    "\n"
   ]
  },
  {
   "cell_type": "code",
   "execution_count": 11,
   "metadata": {},
   "outputs": [
    {
     "data": {
      "text/plain": [
       "200"
      ]
     },
     "execution_count": 11,
     "metadata": {},
     "output_type": "execute_result"
    }
   ],
   "source": [
    "r.status_code "
   ]
  },
  {
   "cell_type": "code",
   "execution_count": 19,
   "metadata": {},
   "outputs": [
    {
     "data": {
      "text/plain": [
       "1000"
      ]
     },
     "execution_count": 19,
     "metadata": {},
     "output_type": "execute_result"
    }
   ],
   "source": [
    "response = r.json()\n",
    "\n",
    "len(response)"
   ]
  },
  {
   "cell_type": "code",
   "execution_count": 20,
   "metadata": {},
   "outputs": [
    {
     "name": "stdout",
     "output_type": "stream",
     "text": [
      "Dataset Name: 2019 Yellow Taxi Trip Data\n",
      "API Endpoint: https://data.cityofnewyork.us/resource/2upf-qytp.json\n",
      "Dataset Name: Medallion Taxi Initial Inspection Schedule\n",
      "API Endpoint: https://data.cityofnewyork.us/resource/sp7n-275u.json\n"
     ]
    }
   ],
   "source": [
    "import requests\n",
    "\n",
    "# The base URL for the NYC Open Data portal's SODA API\n",
    "base_url = \"https://data.cityofnewyork.us/resource/\"\n",
    "\n",
    "# The discovery API endpoint for datasets\n",
    "discovery_endpoint = \"https://api.us.socrata.com/api/catalog/v1\"\n",
    "\n",
    "# Parameters for querying the dataset\n",
    "params = {\n",
    "    'domains': 'data.cityofnewyork.us',\n",
    "    'search_context': 'data.cityofnewyork.us',\n",
    "    'q': 'yellow taxi 2019'\n",
    "}\n",
    "\n",
    "# Send a GET request to the discovery endpoint with the parameters\n",
    "response = requests.get(discovery_endpoint, params=params)\n",
    "\n",
    "# Check if the request was successful\n",
    "if response.status_code == 200:\n",
    "    datasets = response.json()\n",
    "    \n",
    "    # Extract dataset identifiers and construct API endpoints\n",
    "    for dataset in datasets['results']:\n",
    "        resource = dataset['resource']\n",
    "        dataset_id = resource['id']\n",
    "        dataset_name = resource['name']\n",
    "        api_endpoint = f\"{base_url}{dataset_id}.json\"\n",
    "        \n",
    "        print(f\"Dataset Name: {dataset_name}\")\n",
    "        print(f\"API Endpoint: {api_endpoint}\")\n",
    "else:\n",
    "    print(f\"Failed to retrieve datasets, status code: {response.status_code}\")\n",
    "\n"
   ]
  }
 ],
 "metadata": {
  "kernelspec": {
   "display_name": "venv_ds",
   "language": "python",
   "name": "python3"
  },
  "language_info": {
   "codemirror_mode": {
    "name": "ipython",
    "version": 3
   },
   "file_extension": ".py",
   "mimetype": "text/x-python",
   "name": "python",
   "nbconvert_exporter": "python",
   "pygments_lexer": "ipython3",
   "version": "3.11.8"
  }
 },
 "nbformat": 4,
 "nbformat_minor": 2
}
