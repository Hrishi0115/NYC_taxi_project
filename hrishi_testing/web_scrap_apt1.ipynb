{
 "cells": [
  {
   "cell_type": "code",
   "execution_count": 10,
   "metadata": {},
   "outputs": [],
   "source": [
    "import requests\n",
    "\n",
    "url = 'https://data.cityofnewyork.us/resource/hvrh-b6nb.json'\n",
    "\n",
    "r = requests.get(url, )\n",
    "\n"
   ]
  },
  {
   "cell_type": "code",
   "execution_count": 11,
   "metadata": {},
   "outputs": [
    {
     "data": {
      "text/plain": [
       "200"
      ]
     },
     "execution_count": 11,
     "metadata": {},
     "output_type": "execute_result"
    }
   ],
   "source": [
    "r.status_code "
   ]
  },
  {
   "cell_type": "code",
   "execution_count": 19,
   "metadata": {},
   "outputs": [
    {
     "data": {
      "text/plain": [
       "1000"
      ]
     },
     "execution_count": 19,
     "metadata": {},
     "output_type": "execute_result"
    }
   ],
   "source": [
    "response = r.json()\n",
    "\n",
    "len(response)"
   ]
  },
  {
   "cell_type": "code",
   "execution_count": 28,
   "metadata": {},
   "outputs": [
    {
     "name": "stdout",
     "output_type": "stream",
     "text": [
      "Dataset Name: FHV Base Aggregate Report\n",
      "API Endpoint: https://data.cityofnewyork.us/resource/2v9c-2k7f.json\n",
      "Dataset Name: 2019 For Hire Vehicles Trip Data\n",
      "API Endpoint: https://data.cityofnewyork.us/resource/u6nh-b56h.json\n",
      "Dataset Name: 2020 High Volume FHV Trip Records\n",
      "API Endpoint: https://data.cityofnewyork.us/resource/yrt9-58g8.json\n",
      "Dataset Name: 2016 For Hire Vehicle Trip Data\n",
      "API Endpoint: https://data.cityofnewyork.us/resource/yini-w76t.json\n",
      "Dataset Name: 2017 For Hire Vehicle Trip Data\n",
      "API Endpoint: https://data.cityofnewyork.us/resource/avz8-mqzz.json\n",
      "Dataset Name: 2021 For Hire Vehicles Trip Data\n",
      "API Endpoint: https://data.cityofnewyork.us/resource/a444-au9b.json\n",
      "Dataset Name: 2018 For Hire Vehicles Trip Data\n",
      "API Endpoint: https://data.cityofnewyork.us/resource/am94-epxh.json\n",
      "Dataset Name: 2020 For Hire Vehicles Trip Data\n",
      "API Endpoint: https://data.cityofnewyork.us/resource/m3yx-mvk4.json\n",
      "Dataset Name: TLC New Driver Application Status\n",
      "API Endpoint: https://data.cityofnewyork.us/resource/dpec-ucu7.json\n",
      "Dataset Name: 2021 Yellow Taxi Trip Data\n",
      "API Endpoint: https://data.cityofnewyork.us/resource/m6nq-qud6.json\n",
      "Dataset Name: FHV Base Aggregate Report - Historical\n",
      "API Endpoint: https://data.cityofnewyork.us/resource/2bmr-jdsv.json\n",
      "Dataset Name: 2015 For Hire Vehicle Trip Data\n",
      "API Endpoint: https://data.cityofnewyork.us/resource/7dfh-3irt.json\n",
      "Dataset Name: 2019 Yellow Taxi Trip Data\n",
      "API Endpoint: https://data.cityofnewyork.us/resource/2upf-qytp.json\n",
      "Dataset Name: 2022 High Volume FHV Trip Records\n",
      "API Endpoint: https://data.cityofnewyork.us/resource/g6pj-fsah.json\n",
      "Dataset Name: NYC Taxi and Limousine Commission authorized Dispatch Service Providers (DSP)\n",
      "API Endpoint: https://data.cityofnewyork.us/resource/2n4x-d97d.json\n",
      "Dataset Name: 2022 For Hire Vehicles Trip Data\n",
      "API Endpoint: https://data.cityofnewyork.us/resource/vgi6-tcdb.json\n",
      "Dataset Name: 2019 High Volume FHV Trip Records\n",
      "API Endpoint: https://data.cityofnewyork.us/resource/4p5c-cbgn.json\n",
      "Dataset Name: 2019 Green Taxi Trip Data\n",
      "API Endpoint: https://data.cityofnewyork.us/resource/q5mz-t52e.json\n",
      "Dataset Name: 2021 High Volume FHV Trip Records\n",
      "API Endpoint: https://data.cityofnewyork.us/resource/5ufr-wvc5.json\n",
      "Dataset Name: 2021 Green Taxi Trip Data\n",
      "API Endpoint: https://data.cityofnewyork.us/resource/djnb-wcxt.json\n",
      "Dataset Name: 2022 Yellow Taxi Trip Data\n",
      "API Endpoint: https://data.cityofnewyork.us/resource/qp3b-zxtp.json\n",
      "Dataset Name: 2015 Yellow Taxi Trip Data\n",
      "API Endpoint: https://data.cityofnewyork.us/resource/2yzn-sicd.json\n",
      "Dataset Name: Vision Zero Base Report\n",
      "API Endpoint: https://data.cityofnewyork.us/resource/ph7v-u5f3.json\n",
      "Dataset Name: 2009 Yellow Taxi Trip Data\n",
      "API Endpoint: https://data.cityofnewyork.us/resource/f9tw-8p66.json\n",
      "Dataset Name: 2014 Yellow Taxi Trip Data\n",
      "API Endpoint: https://data.cityofnewyork.us/resource/gkne-dk5s.json\n",
      "Dataset Name: Bus Breakdown and Delays\n",
      "API Endpoint: https://data.cityofnewyork.us/resource/ez4e-fazm.json\n",
      "Dataset Name: 2013 Yellow Taxi Trip Data\n",
      "API Endpoint: https://data.cityofnewyork.us/resource/t7ny-aygi.json\n",
      "Dataset Name: Midday Trips\n",
      "API Endpoint: https://data.cityofnewyork.us/resource/5ghg-dyn6.json\n",
      "Dataset Name: 2011 Yellow Taxi Trip Data\n",
      "API Endpoint: https://data.cityofnewyork.us/resource/uwyp-dntv.json\n",
      "Dataset Name: 2012 Yellow Taxi Trip Data\n",
      "API Endpoint: https://data.cityofnewyork.us/resource/kerk-3eby.json\n",
      "Dataset Name: 2010 Yellow Taxi Trip Data\n",
      "API Endpoint: https://data.cityofnewyork.us/resource/74wj-s5ij.json\n",
      "Dataset Name: 2022 Green Taxi Trip Data\n",
      "API Endpoint: https://data.cityofnewyork.us/resource/8nfn-ifaj.json\n",
      "Dataset Name: Motor Vehicle Collisions - Vehicles\n",
      "API Endpoint: https://data.cityofnewyork.us/resource/bm4k-52h4.json\n",
      "Dataset Name: Routes\n",
      "API Endpoint: https://data.cityofnewyork.us/resource/8yac-vygm.json\n",
      "Dataset Name: Motor Vehicle Collisions - Person\n",
      "API Endpoint: https://data.cityofnewyork.us/resource/f55k-p6yu.json\n",
      "Dataset Name: Vehicles\n",
      "API Endpoint: https://data.cityofnewyork.us/resource/28rh-vpvr.json\n",
      "Dataset Name: Department of Consumer and Worker Protection (DCWP) Fines and Fees\n",
      "API Endpoint: https://data.cityofnewyork.us/resource/2k3g-r445.json\n",
      "Dataset Name: Payments Received for DCWP Fines and Fees\n",
      "API Endpoint: https://data.cityofnewyork.us/resource/2xab-argn.json\n",
      "Dataset Name: OATH Trials Division Case Status\n",
      "API Endpoint: https://data.cityofnewyork.us/resource/y3hw-z6bm.json\n"
     ]
    }
   ],
   "source": [
    "import requests\n",
    "\n",
    "# The base URL for the NYC Open Data portal's SODA API\n",
    "base_url = r\"https://data.cityofnewyork.us/resource/\"\n",
    "\n",
    "# The discovery API endpoint for datasets\n",
    "discovery_endpoint = \"https://api.us.socrata.com/api/catalog/v1\"\n",
    "\n",
    "# Parameters for querying the dataset\n",
    "params = {\n",
    "    'domains': 'data.cityofnewyork.us',\n",
    "    'search_context': 'data.cityofnewyork.us',\n",
    "    'q': '2019 For-Hire Vehicle Trip Records'\n",
    "}\n",
    "\n",
    "# Send a GET request to the discovery endpoint with the parameters\n",
    "response = requests.get(discovery_endpoint, params=params)\n",
    "\n",
    "# Check if the request was successful\n",
    "if response.status_code == 200:\n",
    "    datasets = response.json()\n",
    "    \n",
    "    # Extract dataset identifiers and construct API endpoints\n",
    "    for dataset in datasets['results']:\n",
    "        resource = dataset['resource']\n",
    "        dataset_id = resource['id']\n",
    "        dataset_name = resource['name']\n",
    "        api_endpoint = f\"{base_url}{dataset_id}.json\"\n",
    "        \n",
    "        print(f\"Dataset Name: {dataset_name}\")\n",
    "        print(f\"API Endpoint: {api_endpoint}\")\n",
    "else:\n",
    "    print(f\"Failed to retrieve datasets, status code: {response.status_code}\")\n",
    "\n"
   ]
  },
  {
   "cell_type": "code",
   "execution_count": null,
   "metadata": {},
   "outputs": [],
   "source": []
  },
  {
   "cell_type": "code",
   "execution_count": 10,
   "metadata": {},
   "outputs": [],
   "source": [
    "import requests \n",
    "\n",
    "base_url = r\"https://data.cityofnewyork.us/resource/\"\n",
    "discovery_endpoint = r\"https://api.us.socrata.com/api/catalog/v1\"\n",
    "\n",
    "year = 2018\n",
    "data = 'For Hire Vehicle Trip Records'\n",
    "\n",
    "params = {\n",
    "    'domains': 'data.cityofnewyork.us',\n",
    "    'search_context': 'data.cityofnewyork.us',\n",
    "    'q': f'{year} {data}'\n",
    "}\n",
    "\n",
    "response = requests.get(discovery_endpoint, params = params)\n",
    "\n",
    "dataset_dict = {}\n",
    "\n",
    "if response.status_code == 200:\n",
    "    datasets = response.json()\n",
    "    for dataset in datasets['results']:\n",
    "        resource = dataset['resource']\n",
    "        dataset_id = resource['id']\n",
    "        dataset_name = resource['name']\n",
    "        api_endpoint = f\"{base_url}{dataset_id}.csv\"\n",
    "        dataset_dict[dataset_name] = api_endpoint"
   ]
  },
  {
   "cell_type": "code",
   "execution_count": 13,
   "metadata": {},
   "outputs": [
    {
     "name": "stdout",
     "output_type": "stream",
     "text": [
      "No match\n"
     ]
    }
   ],
   "source": [
    "import re \n",
    "\n",
    "x = '2019 For Hire Vehicles Trip Data'\n",
    "\n",
    "pattern = fr'^{year}.*{data}'\n",
    "\n",
    "if re.search(pattern, x):\n",
    "    print(\"Match found\")\n",
    "else:\n",
    "    print(\"No match\")\n",
    "\n"
   ]
  },
  {
   "cell_type": "code",
   "execution_count": 6,
   "metadata": {},
   "outputs": [
    {
     "data": {
      "text/plain": [
       "{'FHV Base Aggregate Report': 'https://data.cityofnewyork.us/resource/2v9c-2k7f.csv',\n",
       " '2019 For Hire Vehicles Trip Data': 'https://data.cityofnewyork.us/resource/u6nh-b56h.csv',\n",
       " '2020 High Volume FHV Trip Records': 'https://data.cityofnewyork.us/resource/yrt9-58g8.csv',\n",
       " '2017 For Hire Vehicle Trip Data': 'https://data.cityofnewyork.us/resource/avz8-mqzz.csv',\n",
       " '2016 For Hire Vehicle Trip Data': 'https://data.cityofnewyork.us/resource/yini-w76t.csv',\n",
       " '2018 For Hire Vehicles Trip Data': 'https://data.cityofnewyork.us/resource/am94-epxh.csv',\n",
       " '2021 For Hire Vehicles Trip Data': 'https://data.cityofnewyork.us/resource/a444-au9b.csv',\n",
       " '2020 For Hire Vehicles Trip Data': 'https://data.cityofnewyork.us/resource/m3yx-mvk4.csv',\n",
       " 'TLC New Driver Application Status': 'https://data.cityofnewyork.us/resource/dpec-ucu7.csv',\n",
       " 'FHV Base Aggregate Report - Historical': 'https://data.cityofnewyork.us/resource/2bmr-jdsv.csv',\n",
       " '2021 Yellow Taxi Trip Data': 'https://data.cityofnewyork.us/resource/m6nq-qud6.csv',\n",
       " '2019 Yellow Taxi Trip Data': 'https://data.cityofnewyork.us/resource/2upf-qytp.csv',\n",
       " '2015 For Hire Vehicle Trip Data': 'https://data.cityofnewyork.us/resource/7dfh-3irt.csv',\n",
       " '2022 High Volume FHV Trip Records': 'https://data.cityofnewyork.us/resource/g6pj-fsah.csv',\n",
       " '2022 For Hire Vehicles Trip Data': 'https://data.cityofnewyork.us/resource/vgi6-tcdb.csv',\n",
       " '2019 High Volume FHV Trip Records': 'https://data.cityofnewyork.us/resource/4p5c-cbgn.csv',\n",
       " '2019 Green Taxi Trip Data': 'https://data.cityofnewyork.us/resource/q5mz-t52e.csv',\n",
       " '2021 Green Taxi Trip Data': 'https://data.cityofnewyork.us/resource/djnb-wcxt.csv',\n",
       " '2021 High Volume FHV Trip Records': 'https://data.cityofnewyork.us/resource/5ufr-wvc5.csv',\n",
       " 'NYC Taxi and Limousine Commission authorized Dispatch Service Providers (DSP)': 'https://data.cityofnewyork.us/resource/2n4x-d97d.csv',\n",
       " 'Vision Zero Base Report': 'https://data.cityofnewyork.us/resource/ph7v-u5f3.csv',\n",
       " '2015 Yellow Taxi Trip Data': 'https://data.cityofnewyork.us/resource/2yzn-sicd.csv',\n",
       " '2022 Yellow Taxi Trip Data': 'https://data.cityofnewyork.us/resource/qp3b-zxtp.csv',\n",
       " '2009 Yellow Taxi Trip Data': 'https://data.cityofnewyork.us/resource/f9tw-8p66.csv',\n",
       " 'Bus Breakdown and Delays': 'https://data.cityofnewyork.us/resource/ez4e-fazm.csv',\n",
       " '2013 Yellow Taxi Trip Data': 'https://data.cityofnewyork.us/resource/t7ny-aygi.csv',\n",
       " 'Midday Trips': 'https://data.cityofnewyork.us/resource/5ghg-dyn6.csv',\n",
       " '2014 Yellow Taxi Trip Data': 'https://data.cityofnewyork.us/resource/gkne-dk5s.csv',\n",
       " '2012 Yellow Taxi Trip Data': 'https://data.cityofnewyork.us/resource/kerk-3eby.csv',\n",
       " '2011 Yellow Taxi Trip Data': 'https://data.cityofnewyork.us/resource/uwyp-dntv.csv',\n",
       " '2010 Yellow Taxi Trip Data': 'https://data.cityofnewyork.us/resource/74wj-s5ij.csv',\n",
       " 'Motor Vehicle Collisions - Vehicles': 'https://data.cityofnewyork.us/resource/bm4k-52h4.csv',\n",
       " '2022 Green Taxi Trip Data': 'https://data.cityofnewyork.us/resource/8nfn-ifaj.csv',\n",
       " 'Motor Vehicle Collisions - Person': 'https://data.cityofnewyork.us/resource/f55k-p6yu.csv',\n",
       " 'Vehicles': 'https://data.cityofnewyork.us/resource/28rh-vpvr.csv',\n",
       " 'Routes': 'https://data.cityofnewyork.us/resource/8yac-vygm.csv',\n",
       " 'Department of Consumer and Worker Protection (DCWP) Fines and Fees': 'https://data.cityofnewyork.us/resource/2k3g-r445.csv',\n",
       " 'Payments Received for DCWP Fines and Fees': 'https://data.cityofnewyork.us/resource/2xab-argn.csv',\n",
       " 'OATH Trials Division Case Status': 'https://data.cityofnewyork.us/resource/y3hw-z6bm.csv'}"
      ]
     },
     "execution_count": 6,
     "metadata": {},
     "output_type": "execute_result"
    }
   ],
   "source": [
    "dataset_dict"
   ]
  },
  {
   "cell_type": "code",
   "execution_count": 4,
   "metadata": {},
   "outputs": [
    {
     "ename": "SyntaxError",
     "evalue": "invalid syntax (2675101979.py, line 3)",
     "output_type": "error",
     "traceback": [
      "\u001b[1;36m  Cell \u001b[1;32mIn[4], line 3\u001b[1;36m\u001b[0m\n\u001b[1;33m    x is like '2019%For Hire Vehicles Trip Data'\u001b[0m\n\u001b[1;37m              ^\u001b[0m\n\u001b[1;31mSyntaxError\u001b[0m\u001b[1;31m:\u001b[0m invalid syntax\n"
     ]
    }
   ],
   "source": [
    "x = '2019 For Hire Vehicles Trip Data'\n",
    "\n",
    "x is like '2019%For Hire Vehicles Trip Data'"
   ]
  }
 ],
 "metadata": {
  "kernelspec": {
   "display_name": "venv_ds",
   "language": "python",
   "name": "python3"
  },
  "language_info": {
   "codemirror_mode": {
    "name": "ipython",
    "version": 3
   },
   "file_extension": ".py",
   "mimetype": "text/x-python",
   "name": "python",
   "nbconvert_exporter": "python",
   "pygments_lexer": "ipython3",
   "version": "3.11.8"
  }
 },
 "nbformat": 4,
 "nbformat_minor": 2
}
